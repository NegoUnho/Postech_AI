{
 "cells": [
  {
   "cell_type": "markdown",
   "metadata": {},
   "source": [
    "## 로지스틱 회귀분석"
   ]
  },
  {
   "cell_type": "code",
   "execution_count": 1,
   "metadata": {},
   "outputs": [],
   "source": [
    "# 파일명만 적을 수 있도록\n",
    "import os\n",
    "from os import chdir\n",
    "chdir(\"/home/pirl/test/실습파일\")\n",
    "os.getcwd()\n",
    "\n",
    "import pandas as pd\n",
    "import numpy as np\n",
    "import statsmodels.api as sm\n",
    "import matplotlib.pyplot as plt\n",
    "import seaborn as sns\n",
    "import scipy.stats as stats\n",
    "from sklearn import metrics"
   ]
  },
  {
   "cell_type": "code",
   "execution_count": 2,
   "metadata": {},
   "outputs": [
    {
     "data": {
      "text/html": [
       "<div>\n",
       "<style scoped>\n",
       "    .dataframe tbody tr th:only-of-type {\n",
       "        vertical-align: middle;\n",
       "    }\n",
       "\n",
       "    .dataframe tbody tr th {\n",
       "        vertical-align: top;\n",
       "    }\n",
       "\n",
       "    .dataframe thead th {\n",
       "        text-align: right;\n",
       "    }\n",
       "</style>\n",
       "<table border=\"1\" class=\"dataframe\">\n",
       "  <thead>\n",
       "    <tr style=\"text-align: right;\">\n",
       "      <th></th>\n",
       "      <th>BAD</th>\n",
       "      <th>LOAN</th>\n",
       "      <th>MORTDUE</th>\n",
       "      <th>VALUE</th>\n",
       "      <th>REASON</th>\n",
       "      <th>JOB</th>\n",
       "      <th>YOJ</th>\n",
       "      <th>DEROG</th>\n",
       "      <th>DELINQ</th>\n",
       "      <th>CLAGE</th>\n",
       "      <th>NINQ</th>\n",
       "      <th>CLNO</th>\n",
       "      <th>DEBTINC</th>\n",
       "    </tr>\n",
       "  </thead>\n",
       "  <tbody>\n",
       "    <tr>\n",
       "      <th>0</th>\n",
       "      <td>1</td>\n",
       "      <td>1700</td>\n",
       "      <td>30548</td>\n",
       "      <td>40320.0</td>\n",
       "      <td>HomeImp</td>\n",
       "      <td>Other</td>\n",
       "      <td>9.0</td>\n",
       "      <td>0</td>\n",
       "      <td>0.0</td>\n",
       "      <td>101.466002</td>\n",
       "      <td>1.0</td>\n",
       "      <td>8</td>\n",
       "      <td>37.113614</td>\n",
       "    </tr>\n",
       "    <tr>\n",
       "      <th>1</th>\n",
       "      <td>1</td>\n",
       "      <td>1800</td>\n",
       "      <td>28502</td>\n",
       "      <td>43034.0</td>\n",
       "      <td>HomeImp</td>\n",
       "      <td>Other</td>\n",
       "      <td>11.0</td>\n",
       "      <td>0</td>\n",
       "      <td>0.0</td>\n",
       "      <td>88.766030</td>\n",
       "      <td>0.0</td>\n",
       "      <td>8</td>\n",
       "      <td>36.884894</td>\n",
       "    </tr>\n",
       "    <tr>\n",
       "      <th>2</th>\n",
       "      <td>0</td>\n",
       "      <td>2300</td>\n",
       "      <td>102370</td>\n",
       "      <td>120953.0</td>\n",
       "      <td>HomeImp</td>\n",
       "      <td>Office</td>\n",
       "      <td>2.0</td>\n",
       "      <td>0</td>\n",
       "      <td>0.0</td>\n",
       "      <td>90.992533</td>\n",
       "      <td>0.0</td>\n",
       "      <td>13</td>\n",
       "      <td>31.588503</td>\n",
       "    </tr>\n",
       "    <tr>\n",
       "      <th>3</th>\n",
       "      <td>1</td>\n",
       "      <td>2400</td>\n",
       "      <td>34863</td>\n",
       "      <td>47471.0</td>\n",
       "      <td>HomeImp</td>\n",
       "      <td>Mgr</td>\n",
       "      <td>12.0</td>\n",
       "      <td>0</td>\n",
       "      <td>0.0</td>\n",
       "      <td>70.491080</td>\n",
       "      <td>1.0</td>\n",
       "      <td>21</td>\n",
       "      <td>38.263601</td>\n",
       "    </tr>\n",
       "    <tr>\n",
       "      <th>4</th>\n",
       "      <td>0</td>\n",
       "      <td>2400</td>\n",
       "      <td>98449</td>\n",
       "      <td>117195.0</td>\n",
       "      <td>HomeImp</td>\n",
       "      <td>Office</td>\n",
       "      <td>4.0</td>\n",
       "      <td>0</td>\n",
       "      <td>0.0</td>\n",
       "      <td>93.811775</td>\n",
       "      <td>0.0</td>\n",
       "      <td>13</td>\n",
       "      <td>29.681827</td>\n",
       "    </tr>\n",
       "  </tbody>\n",
       "</table>\n",
       "</div>"
      ],
      "text/plain": [
       "   BAD  LOAN  MORTDUE     VALUE   REASON     JOB   YOJ  DEROG  DELINQ  \\\n",
       "0    1  1700    30548   40320.0  HomeImp   Other   9.0      0     0.0   \n",
       "1    1  1800    28502   43034.0  HomeImp   Other  11.0      0     0.0   \n",
       "2    0  2300   102370  120953.0  HomeImp  Office   2.0      0     0.0   \n",
       "3    1  2400    34863   47471.0  HomeImp     Mgr  12.0      0     0.0   \n",
       "4    0  2400    98449  117195.0  HomeImp  Office   4.0      0     0.0   \n",
       "\n",
       "        CLAGE  NINQ  CLNO    DEBTINC  \n",
       "0  101.466002   1.0     8  37.113614  \n",
       "1   88.766030   0.0     8  36.884894  \n",
       "2   90.992533   0.0    13  31.588503  \n",
       "3   70.491080   1.0    21  38.263601  \n",
       "4   93.811775   0.0    13  29.681827  "
      ]
     },
     "execution_count": 2,
     "metadata": {},
     "output_type": "execute_result"
    }
   ],
   "source": [
    "ds_hmeq = pd.read_csv(\"HMEQ.csv\")\n",
    "ds_hmeq.head()"
   ]
  },
  {
   "cell_type": "code",
   "execution_count": 3,
   "metadata": {},
   "outputs": [
    {
     "data": {
      "text/plain": [
       "BAD          0\n",
       "LOAN         0\n",
       "MORTDUE      0\n",
       "VALUE       14\n",
       "REASON       0\n",
       "JOB         81\n",
       "YOJ        205\n",
       "DEROG        0\n",
       "DELINQ      30\n",
       "CLAGE       37\n",
       "NINQ        56\n",
       "CLNO         0\n",
       "DEBTINC      0\n",
       "dtype: int64"
      ]
     },
     "execution_count": 3,
     "metadata": {},
     "output_type": "execute_result"
    }
   ],
   "source": [
    "ds_hmeq.isnull().sum()"
   ]
  },
  {
   "cell_type": "code",
   "execution_count": 4,
   "metadata": {},
   "outputs": [],
   "source": [
    "ds_hmeq[\"JOB\"].fillna(\"Other\", inplace = True)\n",
    "ds_hmeq.fillna(ds_hmeq.mean(), inplace = True)"
   ]
  },
  {
   "cell_type": "code",
   "execution_count": 5,
   "metadata": {},
   "outputs": [
    {
     "data": {
      "text/plain": [
       "BAD        0\n",
       "LOAN       0\n",
       "MORTDUE    0\n",
       "VALUE      0\n",
       "REASON     0\n",
       "JOB        0\n",
       "YOJ        0\n",
       "DEROG      0\n",
       "DELINQ     0\n",
       "CLAGE      0\n",
       "NINQ       0\n",
       "CLNO       0\n",
       "DEBTINC    0\n",
       "dtype: int64"
      ]
     },
     "execution_count": 5,
     "metadata": {},
     "output_type": "execute_result"
    }
   ],
   "source": [
    "ds_hmeq.isnull().sum()"
   ]
  },
  {
   "cell_type": "code",
   "execution_count": 6,
   "metadata": {},
   "outputs": [
    {
     "name": "stdout",
     "output_type": "stream",
     "text": [
      "train data size: (2604, 13)\n",
      "test data size: (1144, 13)\n"
     ]
    }
   ],
   "source": [
    "np.random.seed(seed = 1234)\n",
    "msk = np.random.rand(ds_hmeq.shape[0],) < 0.7\n",
    "ds_hmeq_train = ds_hmeq[msk]\n",
    "ds_hmeq_test = ds_hmeq[~msk]\n",
    "\n",
    "print(\"train data size: {}\".format(ds_hmeq_train.shape))\n",
    "print(\"test data size: {}\".format(ds_hmeq_test.shape))"
   ]
  },
  {
   "cell_type": "code",
   "execution_count": 7,
   "metadata": {},
   "outputs": [
    {
     "data": {
      "text/html": [
       "<div>\n",
       "<style scoped>\n",
       "    .dataframe tbody tr th:only-of-type {\n",
       "        vertical-align: middle;\n",
       "    }\n",
       "\n",
       "    .dataframe tbody tr th {\n",
       "        vertical-align: top;\n",
       "    }\n",
       "\n",
       "    .dataframe thead th {\n",
       "        text-align: right;\n",
       "    }\n",
       "</style>\n",
       "<table border=\"1\" class=\"dataframe\">\n",
       "  <thead>\n",
       "    <tr style=\"text-align: right;\">\n",
       "      <th></th>\n",
       "      <th>const</th>\n",
       "      <th>BAD</th>\n",
       "      <th>LOAN</th>\n",
       "      <th>MORTDUE</th>\n",
       "      <th>VALUE</th>\n",
       "      <th>REASON</th>\n",
       "      <th>JOB</th>\n",
       "      <th>YOJ</th>\n",
       "      <th>DEROG</th>\n",
       "      <th>DELINQ</th>\n",
       "      <th>CLAGE</th>\n",
       "      <th>NINQ</th>\n",
       "      <th>CLNO</th>\n",
       "      <th>DEBTINC</th>\n",
       "    </tr>\n",
       "  </thead>\n",
       "  <tbody>\n",
       "    <tr>\n",
       "      <th>0</th>\n",
       "      <td>1.0</td>\n",
       "      <td>1</td>\n",
       "      <td>1700</td>\n",
       "      <td>30548</td>\n",
       "      <td>40320.0</td>\n",
       "      <td>HomeImp</td>\n",
       "      <td>Other</td>\n",
       "      <td>9.0</td>\n",
       "      <td>0</td>\n",
       "      <td>0.0</td>\n",
       "      <td>101.466002</td>\n",
       "      <td>1.0</td>\n",
       "      <td>8</td>\n",
       "      <td>37.113614</td>\n",
       "    </tr>\n",
       "    <tr>\n",
       "      <th>1</th>\n",
       "      <td>1.0</td>\n",
       "      <td>1</td>\n",
       "      <td>1800</td>\n",
       "      <td>28502</td>\n",
       "      <td>43034.0</td>\n",
       "      <td>HomeImp</td>\n",
       "      <td>Other</td>\n",
       "      <td>11.0</td>\n",
       "      <td>0</td>\n",
       "      <td>0.0</td>\n",
       "      <td>88.766030</td>\n",
       "      <td>0.0</td>\n",
       "      <td>8</td>\n",
       "      <td>36.884894</td>\n",
       "    </tr>\n",
       "    <tr>\n",
       "      <th>2</th>\n",
       "      <td>1.0</td>\n",
       "      <td>0</td>\n",
       "      <td>2300</td>\n",
       "      <td>102370</td>\n",
       "      <td>120953.0</td>\n",
       "      <td>HomeImp</td>\n",
       "      <td>Office</td>\n",
       "      <td>2.0</td>\n",
       "      <td>0</td>\n",
       "      <td>0.0</td>\n",
       "      <td>90.992533</td>\n",
       "      <td>0.0</td>\n",
       "      <td>13</td>\n",
       "      <td>31.588503</td>\n",
       "    </tr>\n",
       "    <tr>\n",
       "      <th>5</th>\n",
       "      <td>1.0</td>\n",
       "      <td>0</td>\n",
       "      <td>2900</td>\n",
       "      <td>103949</td>\n",
       "      <td>112505.0</td>\n",
       "      <td>HomeImp</td>\n",
       "      <td>Office</td>\n",
       "      <td>1.0</td>\n",
       "      <td>0</td>\n",
       "      <td>0.0</td>\n",
       "      <td>96.102330</td>\n",
       "      <td>0.0</td>\n",
       "      <td>13</td>\n",
       "      <td>30.051136</td>\n",
       "    </tr>\n",
       "    <tr>\n",
       "      <th>6</th>\n",
       "      <td>1.0</td>\n",
       "      <td>0</td>\n",
       "      <td>2900</td>\n",
       "      <td>104373</td>\n",
       "      <td>120702.0</td>\n",
       "      <td>HomeImp</td>\n",
       "      <td>Office</td>\n",
       "      <td>2.0</td>\n",
       "      <td>0</td>\n",
       "      <td>0.0</td>\n",
       "      <td>101.540297</td>\n",
       "      <td>0.0</td>\n",
       "      <td>13</td>\n",
       "      <td>29.915859</td>\n",
       "    </tr>\n",
       "  </tbody>\n",
       "</table>\n",
       "</div>"
      ],
      "text/plain": [
       "   const  BAD  LOAN  MORTDUE     VALUE   REASON     JOB   YOJ  DEROG  DELINQ  \\\n",
       "0    1.0    1  1700    30548   40320.0  HomeImp   Other   9.0      0     0.0   \n",
       "1    1.0    1  1800    28502   43034.0  HomeImp   Other  11.0      0     0.0   \n",
       "2    1.0    0  2300   102370  120953.0  HomeImp  Office   2.0      0     0.0   \n",
       "5    1.0    0  2900   103949  112505.0  HomeImp  Office   1.0      0     0.0   \n",
       "6    1.0    0  2900   104373  120702.0  HomeImp  Office   2.0      0     0.0   \n",
       "\n",
       "        CLAGE  NINQ  CLNO    DEBTINC  \n",
       "0  101.466002   1.0     8  37.113614  \n",
       "1   88.766030   0.0     8  36.884894  \n",
       "2   90.992533   0.0    13  31.588503  \n",
       "5   96.102330   0.0    13  30.051136  \n",
       "6  101.540297   0.0    13  29.915859  "
      ]
     },
     "execution_count": 7,
     "metadata": {},
     "output_type": "execute_result"
    }
   ],
   "source": [
    "ds_hmeq_train = sm.add_constant(ds_hmeq_train)\n",
    "ds_hmeq_train.head()"
   ]
  },
  {
   "cell_type": "code",
   "execution_count": 8,
   "metadata": {},
   "outputs": [
    {
     "data": {
      "text/plain": [
       "const      0\n",
       "BAD        0\n",
       "LOAN       0\n",
       "MORTDUE    0\n",
       "VALUE      0\n",
       "REASON     0\n",
       "JOB        0\n",
       "YOJ        0\n",
       "DEROG      0\n",
       "DELINQ     0\n",
       "CLAGE      0\n",
       "NINQ       0\n",
       "CLNO       0\n",
       "DEBTINC    0\n",
       "dtype: int64"
      ]
     },
     "execution_count": 8,
     "metadata": {},
     "output_type": "execute_result"
    }
   ],
   "source": [
    "ds_hmeq_train.isnull().sum()"
   ]
  },
  {
   "cell_type": "code",
   "execution_count": 9,
   "metadata": {},
   "outputs": [
    {
     "name": "stdout",
     "output_type": "stream",
     "text": [
      "Optimization terminated successfully.\n",
      "         Current function value: 0.244454\n",
      "         Iterations 7\n",
      "                           Logit Regression Results                           \n",
      "==============================================================================\n",
      "Dep. Variable:                    BAD   No. Observations:                 2604\n",
      "Model:                          Logit   Df Residuals:                     2587\n",
      "Method:                           MLE   Df Model:                           16\n",
      "Date:                Thu, 14 Feb 2019   Pseudo R-squ.:                  0.2096\n",
      "Time:                        17:33:19   Log-Likelihood:                -636.56\n",
      "converged:                       True   LL-Null:                       -805.35\n",
      "                                        LLR p-value:                 4.004e-62\n",
      "========================================================================================\n",
      "                           coef    std err          z      P>|z|      [0.025      0.975]\n",
      "----------------------------------------------------------------------------------------\n",
      "Intercept               -4.7741      0.518     -9.209      0.000      -5.790      -3.758\n",
      "C(REASON)[T.HomeImp]     0.1626      0.174      0.934      0.350      -0.178       0.504\n",
      "C(JOB)[T.Office]        -0.5980      0.301     -1.988      0.047      -1.187      -0.008\n",
      "C(JOB)[T.Other]         -0.1644      0.238     -0.691      0.490      -0.631       0.302\n",
      "C(JOB)[T.ProfExe]       -0.1567      0.274     -0.572      0.568      -0.694       0.381\n",
      "C(JOB)[T.Sales]          1.1257      0.455      2.471      0.013       0.233       2.018\n",
      "C(JOB)[T.Self]           0.0217      0.459      0.047      0.962      -0.877       0.920\n",
      "LOAN                 -3.605e-06    7.7e-06     -0.468      0.640   -1.87e-05    1.15e-05\n",
      "MORTDUE              -2.384e-06   3.58e-06     -0.666      0.506    -9.4e-06    4.63e-06\n",
      "VALUE                 1.811e-06   3.06e-06      0.592      0.554   -4.18e-06     7.8e-06\n",
      "YOJ                     -0.0143      0.012     -1.221      0.222      -0.037       0.009\n",
      "DEROG                    0.6325      0.099      6.414      0.000       0.439       0.826\n",
      "DELINQ                   0.7593      0.079      9.611      0.000       0.604       0.914\n",
      "CLAGE                   -0.0047      0.001     -4.055      0.000      -0.007      -0.002\n",
      "NINQ                     0.1307      0.042      3.129      0.002       0.049       0.213\n",
      "CLNO                    -0.0193      0.009     -2.227      0.026      -0.036      -0.002\n",
      "DEBTINC                  0.0926      0.011      8.263      0.000       0.071       0.115\n",
      "========================================================================================\n"
     ]
    }
   ],
   "source": [
    "log_model = sm.Logit.from_formula(\"\"\"BAD~LOAN+MORTDUE+VALUE+C(REASON)+C(JOB)+YOJ+DEROG+DELINQ+CLAGE+NINQ+CLNO+DEBTINC+1\"\"\",ds_hmeq_train)\n",
    "log_result = log_model.fit()\n",
    "print(log_result.summary())"
   ]
  },
  {
   "cell_type": "code",
   "execution_count": 10,
   "metadata": {},
   "outputs": [
    {
     "data": {
      "text/plain": [
       "3    0\n",
       "4    0\n",
       "7    0\n",
       "8    0\n",
       "9    0\n",
       "dtype: int64"
      ]
     },
     "execution_count": 10,
     "metadata": {},
     "output_type": "execute_result"
    }
   ],
   "source": [
    "y_pred = log_result.predict(ds_hmeq_test)\n",
    "y_pred_class = (y_pred > 0.5).astype(int)\n",
    "y_pred_class.head()"
   ]
  },
  {
   "cell_type": "code",
   "execution_count": 11,
   "metadata": {},
   "outputs": [
    {
     "name": "stdout",
     "output_type": "stream",
     "text": [
      "Accuracy:0.924\n"
     ]
    }
   ],
   "source": [
    "print(\"Accuracy:{0:.3f}\".format(metrics.accuracy_score(ds_hmeq_test['BAD'],y_pred_class)))"
   ]
  },
  {
   "cell_type": "code",
   "execution_count": 12,
   "metadata": {},
   "outputs": [
    {
     "data": {
      "image/png": "[encoded data removed]",
      "text/plain": [
       "<Figure size 432x288 with 1 Axes>"
      ]
     },
     "metadata": {
      "needs_background": "light"
     },
     "output_type": "display_data"
    }
   ],
   "source": [
    "ds_logistic_coef = pd.DataFrame({\"Coef\":log_result.params.values[1:]}, index=log_model.exog_names[1:])\n",
    "ds_logistic_coef.plot.barh(y=\"Coef\");"
   ]
  },
  {
   "cell_type": "code",
   "execution_count": 13,
   "metadata": {},
   "outputs": [
    {
     "name": "stderr",
     "output_type": "stream",
     "text": [
      "/home/pirl/anaconda3/lib/python3.7/site-packages/ipykernel_launcher.py:6: DataConversionWarning: Data with input dtype int64, float64 were all converted to float64 by the scale function.\n",
      "  \n"
     ]
    },
    {
     "data": {
      "text/html": [
       "<div>\n",
       "<style scoped>\n",
       "    .dataframe tbody tr th:only-of-type {\n",
       "        vertical-align: middle;\n",
       "    }\n",
       "\n",
       "    .dataframe tbody tr th {\n",
       "        vertical-align: top;\n",
       "    }\n",
       "\n",
       "    .dataframe thead th {\n",
       "        text-align: right;\n",
       "    }\n",
       "</style>\n",
       "<table border=\"1\" class=\"dataframe\">\n",
       "  <thead>\n",
       "    <tr style=\"text-align: right;\">\n",
       "      <th></th>\n",
       "      <th>BAD</th>\n",
       "      <th>LOAN</th>\n",
       "      <th>MORTDUE</th>\n",
       "      <th>VALUE</th>\n",
       "      <th>YOJ</th>\n",
       "      <th>DEROG</th>\n",
       "      <th>DELINQ</th>\n",
       "      <th>CLAGE</th>\n",
       "      <th>NINQ</th>\n",
       "      <th>CLNO</th>\n",
       "      <th>DEBTINC</th>\n",
       "    </tr>\n",
       "  </thead>\n",
       "  <tbody>\n",
       "    <tr>\n",
       "      <th>0</th>\n",
       "      <td>3.124153</td>\n",
       "      <td>-1.546445</td>\n",
       "      <td>-0.994709</td>\n",
       "      <td>-1.227453</td>\n",
       "      <td>-0.020546</td>\n",
       "      <td>-0.26517</td>\n",
       "      <td>-0.337599</td>\n",
       "      <td>-0.962571</td>\n",
       "      <td>-0.019984</td>\n",
       "      <td>-1.424138</td>\n",
       "      <td>0.372555</td>\n",
       "    </tr>\n",
       "    <tr>\n",
       "      <th>1</th>\n",
       "      <td>3.124153</td>\n",
       "      <td>-1.537818</td>\n",
       "      <td>-1.040082</td>\n",
       "      <td>-1.177823</td>\n",
       "      <td>0.250021</td>\n",
       "      <td>-0.26517</td>\n",
       "      <td>-0.337599</td>\n",
       "      <td>-1.117329</td>\n",
       "      <td>-0.663021</td>\n",
       "      <td>-1.424138</td>\n",
       "      <td>0.344145</td>\n",
       "    </tr>\n",
       "    <tr>\n",
       "      <th>2</th>\n",
       "      <td>-0.320087</td>\n",
       "      <td>-1.494683</td>\n",
       "      <td>0.598052</td>\n",
       "      <td>0.247041</td>\n",
       "      <td>-0.967531</td>\n",
       "      <td>-0.26517</td>\n",
       "      <td>-0.337599</td>\n",
       "      <td>-1.090197</td>\n",
       "      <td>-0.663021</td>\n",
       "      <td>-0.898712</td>\n",
       "      <td>-0.313747</td>\n",
       "    </tr>\n",
       "    <tr>\n",
       "      <th>3</th>\n",
       "      <td>-0.320087</td>\n",
       "      <td>-1.442920</td>\n",
       "      <td>0.633069</td>\n",
       "      <td>0.092557</td>\n",
       "      <td>-1.102815</td>\n",
       "      <td>-0.26517</td>\n",
       "      <td>-0.337599</td>\n",
       "      <td>-1.027931</td>\n",
       "      <td>-0.663021</td>\n",
       "      <td>-0.898712</td>\n",
       "      <td>-0.504711</td>\n",
       "    </tr>\n",
       "    <tr>\n",
       "      <th>4</th>\n",
       "      <td>-0.320087</td>\n",
       "      <td>-1.442920</td>\n",
       "      <td>0.642472</td>\n",
       "      <td>0.242451</td>\n",
       "      <td>-0.967531</td>\n",
       "      <td>-0.26517</td>\n",
       "      <td>-0.337599</td>\n",
       "      <td>-0.961666</td>\n",
       "      <td>-0.663021</td>\n",
       "      <td>-0.898712</td>\n",
       "      <td>-0.521514</td>\n",
       "    </tr>\n",
       "  </tbody>\n",
       "</table>\n",
       "</div>"
      ],
      "text/plain": [
       "        BAD      LOAN   MORTDUE     VALUE       YOJ    DEROG    DELINQ  \\\n",
       "0  3.124153 -1.546445 -0.994709 -1.227453 -0.020546 -0.26517 -0.337599   \n",
       "1  3.124153 -1.537818 -1.040082 -1.177823  0.250021 -0.26517 -0.337599   \n",
       "2 -0.320087 -1.494683  0.598052  0.247041 -0.967531 -0.26517 -0.337599   \n",
       "3 -0.320087 -1.442920  0.633069  0.092557 -1.102815 -0.26517 -0.337599   \n",
       "4 -0.320087 -1.442920  0.642472  0.242451 -0.967531 -0.26517 -0.337599   \n",
       "\n",
       "      CLAGE      NINQ      CLNO   DEBTINC  \n",
       "0 -0.962571 -0.019984 -1.424138  0.372555  \n",
       "1 -1.117329 -0.663021 -1.424138  0.344145  \n",
       "2 -1.090197 -0.663021 -0.898712 -0.313747  \n",
       "3 -1.027931 -0.663021 -0.898712 -0.504711  \n",
       "4 -0.961666 -0.663021 -0.898712 -0.521514  "
      ]
     },
     "execution_count": 13,
     "metadata": {},
     "output_type": "execute_result"
    }
   ],
   "source": [
    "from sklearn.preprocessing import scale, robust_scale,minmax_scale\n",
    "ds_hmeq_char = ds_hmeq.select_dtypes(include = \"object\")\n",
    "ds_hmeq_numeric = ds_hmeq.select_dtypes(exclude = \"object\")\n",
    "# Data Scale\n",
    "ds_hmeq_char_train = ds_hmeq_char[msk]\n",
    "ds_hmeq_numeric_scaled_train = scale(ds_hmeq_numeric[msk])\n",
    "ds_hmeq_numeric_scaled_train = pd.DataFrame(ds_hmeq_numeric_scaled_train, columns = ds_hmeq_numeric.columns)\n",
    "ds_hmeq_numeric_scaled_train.head()"
   ]
  },
  {
   "cell_type": "code",
   "execution_count": 14,
   "metadata": {},
   "outputs": [
    {
     "data": {
      "text/html": [
       "<div>\n",
       "<style scoped>\n",
       "    .dataframe tbody tr th:only-of-type {\n",
       "        vertical-align: middle;\n",
       "    }\n",
       "\n",
       "    .dataframe tbody tr th {\n",
       "        vertical-align: top;\n",
       "    }\n",
       "\n",
       "    .dataframe thead th {\n",
       "        text-align: right;\n",
       "    }\n",
       "</style>\n",
       "<table border=\"1\" class=\"dataframe\">\n",
       "  <thead>\n",
       "    <tr style=\"text-align: right;\">\n",
       "      <th></th>\n",
       "      <th>BAD</th>\n",
       "      <th>LOAN</th>\n",
       "      <th>MORTDUE</th>\n",
       "      <th>VALUE</th>\n",
       "      <th>YOJ</th>\n",
       "      <th>DEROG</th>\n",
       "      <th>DELINQ</th>\n",
       "      <th>CLAGE</th>\n",
       "      <th>NINQ</th>\n",
       "      <th>CLNO</th>\n",
       "      <th>DEBTINC</th>\n",
       "      <th>REASON</th>\n",
       "      <th>JOB</th>\n",
       "    </tr>\n",
       "  </thead>\n",
       "  <tbody>\n",
       "    <tr>\n",
       "      <th>0</th>\n",
       "      <td>1</td>\n",
       "      <td>-1.546445</td>\n",
       "      <td>-0.994709</td>\n",
       "      <td>-1.227453</td>\n",
       "      <td>-0.020546</td>\n",
       "      <td>-0.26517</td>\n",
       "      <td>-0.337599</td>\n",
       "      <td>-0.962571</td>\n",
       "      <td>-0.019984</td>\n",
       "      <td>-1.424138</td>\n",
       "      <td>0.372555</td>\n",
       "      <td>HomeImp</td>\n",
       "      <td>Other</td>\n",
       "    </tr>\n",
       "    <tr>\n",
       "      <th>1</th>\n",
       "      <td>1</td>\n",
       "      <td>-1.537818</td>\n",
       "      <td>-1.040082</td>\n",
       "      <td>-1.177823</td>\n",
       "      <td>0.250021</td>\n",
       "      <td>-0.26517</td>\n",
       "      <td>-0.337599</td>\n",
       "      <td>-1.117329</td>\n",
       "      <td>-0.663021</td>\n",
       "      <td>-1.424138</td>\n",
       "      <td>0.344145</td>\n",
       "      <td>HomeImp</td>\n",
       "      <td>Other</td>\n",
       "    </tr>\n",
       "    <tr>\n",
       "      <th>2</th>\n",
       "      <td>0</td>\n",
       "      <td>-1.494683</td>\n",
       "      <td>0.598052</td>\n",
       "      <td>0.247041</td>\n",
       "      <td>-0.967531</td>\n",
       "      <td>-0.26517</td>\n",
       "      <td>-0.337599</td>\n",
       "      <td>-1.090197</td>\n",
       "      <td>-0.663021</td>\n",
       "      <td>-0.898712</td>\n",
       "      <td>-0.313747</td>\n",
       "      <td>HomeImp</td>\n",
       "      <td>Office</td>\n",
       "    </tr>\n",
       "    <tr>\n",
       "      <th>3</th>\n",
       "      <td>0</td>\n",
       "      <td>-1.442920</td>\n",
       "      <td>0.633069</td>\n",
       "      <td>0.092557</td>\n",
       "      <td>-1.102815</td>\n",
       "      <td>-0.26517</td>\n",
       "      <td>-0.337599</td>\n",
       "      <td>-1.027931</td>\n",
       "      <td>-0.663021</td>\n",
       "      <td>-0.898712</td>\n",
       "      <td>-0.504711</td>\n",
       "      <td>HomeImp</td>\n",
       "      <td>Office</td>\n",
       "    </tr>\n",
       "    <tr>\n",
       "      <th>4</th>\n",
       "      <td>0</td>\n",
       "      <td>-1.442920</td>\n",
       "      <td>0.642472</td>\n",
       "      <td>0.242451</td>\n",
       "      <td>-0.967531</td>\n",
       "      <td>-0.26517</td>\n",
       "      <td>-0.337599</td>\n",
       "      <td>-0.961666</td>\n",
       "      <td>-0.663021</td>\n",
       "      <td>-0.898712</td>\n",
       "      <td>-0.521514</td>\n",
       "      <td>HomeImp</td>\n",
       "      <td>Office</td>\n",
       "    </tr>\n",
       "  </tbody>\n",
       "</table>\n",
       "</div>"
      ],
      "text/plain": [
       "   BAD      LOAN   MORTDUE     VALUE       YOJ    DEROG    DELINQ     CLAGE  \\\n",
       "0    1 -1.546445 -0.994709 -1.227453 -0.020546 -0.26517 -0.337599 -0.962571   \n",
       "1    1 -1.537818 -1.040082 -1.177823  0.250021 -0.26517 -0.337599 -1.117329   \n",
       "2    0 -1.494683  0.598052  0.247041 -0.967531 -0.26517 -0.337599 -1.090197   \n",
       "3    0 -1.442920  0.633069  0.092557 -1.102815 -0.26517 -0.337599 -1.027931   \n",
       "4    0 -1.442920  0.642472  0.242451 -0.967531 -0.26517 -0.337599 -0.961666   \n",
       "\n",
       "       NINQ      CLNO   DEBTINC   REASON     JOB  \n",
       "0 -0.019984 -1.424138  0.372555  HomeImp   Other  \n",
       "1 -0.663021 -1.424138  0.344145  HomeImp   Other  \n",
       "2 -0.663021 -0.898712 -0.313747  HomeImp  Office  \n",
       "3 -0.663021 -0.898712 -0.504711  HomeImp  Office  \n",
       "4 -0.663021 -0.898712 -0.521514  HomeImp  Office  "
      ]
     },
     "execution_count": 14,
     "metadata": {},
     "output_type": "execute_result"
    }
   ],
   "source": [
    "#BAD 데이터를 0과 1로 변환\n",
    "ds_hmeq_numeric_scaled_train[\"BAD\"] = np.where(ds_hmeq_numeric_scaled_train[\"BAD\"]>0,1,0)\n",
    "ds_hmeq_numeric_scaled_train.head()\n",
    "# scale된 숫자형 데이터와 범주형 데이터 결합\n",
    "ds_hmeq_scaled_train = pd.concat([ds_hmeq_numeric_scaled_train, ds_hmeq_char_train.reset_index(drop = True)], axis = 1)\n",
    "ds_hmeq_scaled_train.head()"
   ]
  },
  {
   "cell_type": "code",
   "execution_count": 15,
   "metadata": {},
   "outputs": [
    {
     "name": "stdout",
     "output_type": "stream",
     "text": [
      "Optimization terminated successfully.\n",
      "         Current function value: 0.244454\n",
      "         Iterations 7\n"
     ]
    },
    {
     "ename": "AttributeError",
     "evalue": "'Series' object has no attribute 'value'",
     "output_type": "error",
     "traceback": [
      "\u001b[0;31m---------------------------------------------------------------------------\u001b[0m",
      "\u001b[0;31mAttributeError\u001b[0m                            Traceback (most recent call last)",
      "\u001b[0;32m<ipython-input-15-7dc23fe12292>\u001b[0m in \u001b[0;36m<module>\u001b[0;34m\u001b[0m\n\u001b[1;32m      4\u001b[0m \u001b[0mscaled_log_result\u001b[0m \u001b[0;34m=\u001b[0m \u001b[0mscaled_log_model\u001b[0m\u001b[0;34m.\u001b[0m\u001b[0mfit\u001b[0m\u001b[0;34m(\u001b[0m\u001b[0;34m)\u001b[0m\u001b[0;34m\u001b[0m\u001b[0;34m\u001b[0m\u001b[0m\n\u001b[1;32m      5\u001b[0m \u001b[0;31m# 설명변수 중요도\u001b[0m\u001b[0;34m\u001b[0m\u001b[0;34m\u001b[0m\u001b[0;34m\u001b[0m\u001b[0m\n\u001b[0;32m----> 6\u001b[0;31m \u001b[0mds_log_scaled_coef\u001b[0m \u001b[0;34m=\u001b[0m \u001b[0mpd\u001b[0m\u001b[0;34m.\u001b[0m\u001b[0mDataFrame\u001b[0m\u001b[0;34m(\u001b[0m\u001b[0;34m{\u001b[0m\u001b[0;34m\"Coef\"\u001b[0m\u001b[0;34m:\u001b[0m\u001b[0mscaled_log_result\u001b[0m\u001b[0;34m.\u001b[0m\u001b[0mparams\u001b[0m\u001b[0;34m.\u001b[0m\u001b[0mvalue\u001b[0m\u001b[0;34m[\u001b[0m\u001b[0;36m1\u001b[0m\u001b[0;34m:\u001b[0m\u001b[0;34m]\u001b[0m\u001b[0;34m}\u001b[0m\u001b[0;34m,\u001b[0m \u001b[0mindex\u001b[0m \u001b[0;34m=\u001b[0m \u001b[0mscaled_log_model\u001b[0m\u001b[0;34m.\u001b[0m\u001b[0mexog_names\u001b[0m\u001b[0;34m[\u001b[0m\u001b[0;36m1\u001b[0m\u001b[0;34m:\u001b[0m\u001b[0;34m]\u001b[0m\u001b[0;34m)\u001b[0m\u001b[0;34m\u001b[0m\u001b[0;34m\u001b[0m\u001b[0m\n\u001b[0m\u001b[1;32m      7\u001b[0m \u001b[0mds_log_scaled_coef\u001b[0m\u001b[0;34m.\u001b[0m\u001b[0mplot\u001b[0m\u001b[0;34m.\u001b[0m\u001b[0mbarh\u001b[0m\u001b[0;34m(\u001b[0m\u001b[0my\u001b[0m \u001b[0;34m=\u001b[0m \u001b[0;34m\"Coef\"\u001b[0m\u001b[0;34m,\u001b[0m \u001b[0mlegend\u001b[0m \u001b[0;34m=\u001b[0m \u001b[0;32mFalse\u001b[0m\u001b[0;34m)\u001b[0m\u001b[0;34m\u001b[0m\u001b[0;34m\u001b[0m\u001b[0m\n",
      "\u001b[0;32m~/anaconda3/lib/python3.7/site-packages/pandas/core/generic.py\u001b[0m in \u001b[0;36m__getattr__\u001b[0;34m(self, name)\u001b[0m\n\u001b[1;32m   4374\u001b[0m             \u001b[0;32mif\u001b[0m \u001b[0mself\u001b[0m\u001b[0;34m.\u001b[0m\u001b[0m_info_axis\u001b[0m\u001b[0;34m.\u001b[0m\u001b[0m_can_hold_identifiers_and_holds_name\u001b[0m\u001b[0;34m(\u001b[0m\u001b[0mname\u001b[0m\u001b[0;34m)\u001b[0m\u001b[0;34m:\u001b[0m\u001b[0;34m\u001b[0m\u001b[0;34m\u001b[0m\u001b[0m\n\u001b[1;32m   4375\u001b[0m                 \u001b[0;32mreturn\u001b[0m \u001b[0mself\u001b[0m\u001b[0;34m[\u001b[0m\u001b[0mname\u001b[0m\u001b[0;34m]\u001b[0m\u001b[0;34m\u001b[0m\u001b[0;34m\u001b[0m\u001b[0m\n\u001b[0;32m-> 4376\u001b[0;31m             \u001b[0;32mreturn\u001b[0m \u001b[0mobject\u001b[0m\u001b[0;34m.\u001b[0m\u001b[0m__getattribute__\u001b[0m\u001b[0;34m(\u001b[0m\u001b[0mself\u001b[0m\u001b[0;34m,\u001b[0m \u001b[0mname\u001b[0m\u001b[0;34m)\u001b[0m\u001b[0;34m\u001b[0m\u001b[0;34m\u001b[0m\u001b[0m\n\u001b[0m\u001b[1;32m   4377\u001b[0m \u001b[0;34m\u001b[0m\u001b[0m\n\u001b[1;32m   4378\u001b[0m     \u001b[0;32mdef\u001b[0m \u001b[0m__setattr__\u001b[0m\u001b[0;34m(\u001b[0m\u001b[0mself\u001b[0m\u001b[0;34m,\u001b[0m \u001b[0mname\u001b[0m\u001b[0;34m,\u001b[0m \u001b[0mvalue\u001b[0m\u001b[0;34m)\u001b[0m\u001b[0;34m:\u001b[0m\u001b[0;34m\u001b[0m\u001b[0;34m\u001b[0m\u001b[0m\n",
      "\u001b[0;31mAttributeError\u001b[0m: 'Series' object has no attribute 'value'"
     ]
    }
   ],
   "source": [
    "# from_formula 함수를 이용하여 변수 역할 지정\n",
    "scaled_log_model = sm.Logit.from_formula(\"\"\"BAD ~ LOAN + MORTDUE + VALUE + REASON + JOB +YOJ+DEROG+DELINQ+CLAGE+NINQ+CLNO+DEBTINC+1\"\"\",ds_hmeq_scaled_train)\n",
    "# 적합\n",
    "scaled_log_result = scaled_log_model.fit()\n",
    "# 설명변수 중요도\n",
    "ds_log_scaled_coef = pd.DataFrame({\"Coef\":scaled_log_result.params.value[1:]}, index = scaled_log_model.exog_names[1:])\n",
    "ds_log_scaled_coef.plot.barh(y = \"Coef\", legend = False)"
   ]
  },
  {
   "cell_type": "code",
   "execution_count": null,
   "metadata": {},
   "outputs": [],
   "source": []
  }
 ],
 "metadata": {
  "kernelspec": {
   "display_name": "Python 3",
   "language": "python",
   "name": "python3"
  },
  "language_info": {
   "codemirror_mode": {
    "name": "ipython",
    "version": 3
   },
   "file_extension": ".py",
   "mimetype": "text/x-python",
   "name": "python",
   "nbconvert_exporter": "python",
   "pygments_lexer": "ipython3",
   "version": "3.7.1"
  }
 },
 "nbformat": 4,
 "nbformat_minor": 2
}
