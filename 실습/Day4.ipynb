{
 "cells": [
  {
   "cell_type": "code",
   "execution_count": 1,
   "metadata": {},
   "outputs": [],
   "source": [
    "#연습문제 6\n",
    "def dotproduct(v1,v2):\n",
    "    res=0\n",
    "    for k in v1:\n",
    "        if k in v2: #이중 for문 안 쓸 수 있음.\n",
    "            res+=v1[k]*v2[k]\n",
    "    return res"
   ]
  },
  {
   "cell_type": "code",
   "execution_count": 2,
   "metadata": {},
   "outputs": [],
   "source": [
    "def dotproduct2(v1,v2):\n",
    "    res=0\n",
    "    for k in v1:\n",
    "        try:\n",
    "            res+=v1[k]*v2[k]\n",
    "        except KeyError:\n",
    "            res+=0\n",
    "    return res"
   ]
  },
  {
   "cell_type": "code",
   "execution_count": 3,
   "metadata": {},
   "outputs": [
    {
     "data": {
      "text/plain": [
       "'f'"
      ]
     },
     "execution_count": 3,
     "metadata": {},
     "output_type": "execute_result"
    }
   ],
   "source": [
    "import random\n",
    "random.choice('abcdefg')"
   ]
  },
  {
   "cell_type": "code",
   "execution_count": 8,
   "metadata": {},
   "outputs": [
    {
     "name": "stdout",
     "output_type": "stream",
     "text": [
      "16 33 9 19 6 41 "
     ]
    }
   ],
   "source": [
    "#연습문제 7\n",
    "import random\n",
    "l=random.sample(list(range(1,46)),6)\n",
    "for i in l:\n",
    "    print(i, end=' ')"
   ]
  },
  {
   "cell_type": "code",
   "execution_count": 38,
   "metadata": {},
   "outputs": [],
   "source": [
    "#클래스 개념\n",
    "class Account:\n",
    "# 계좌의 속성(Attribute)\n",
    "    number = 'OOOO-OOO-OOOOOO'\n",
    "    balance = 0\n",
    "    rate = 1.0\n",
    "# 계좌의 기능(Method)\n",
    "    def deposit(self, money): #입금\n",
    "        self.balance += money\n",
    "    def withdraw(self, money): #인출\n",
    "        self.balance -= money\n",
    "    def obtain_interest(self): #이자 획득\n",
    "        self.balance += self.balance*(self.rate/100)\n",
    "    def __add__(self, another): #두 계좌 통합 기능\n",
    "        new_acc=Account(amnt=self.balance+another.balance,rate=self.rate)\n",
    "        return new_acc\n",
    "\n",
    "class MinBalanceAccount(Account): #Account 클래스를 상속받음\n",
    "    def __init__(self, min_balance, num='OOOO-OOO-OOOOO',amnt=0, rate=1.0):\n",
    "        Account.__init__(self, num=num, amnt=amnt,rate=rate)\n",
    "        self.minimum_balance = min_balance\n",
    "        self.bonus_rate = 1.0\n",
    "    def withdraw(self, amnt): # 인출 기능 수정\n",
    "        if self.balance - amnt < self.minimum_balance:\n",
    "            print('Sorry, minimum balance must bemaintained')\n",
    "        else: Account.withdraw(self, amnt)\n",
    "    def obtain_interest(self): #보너스 이율 반영\n",
    "        self.balance += (self.balance)*((self.rate+self.bonus_rate)/100.0)"
   ]
  },
  {
   "cell_type": "code",
   "execution_count": 2,
   "metadata": {},
   "outputs": [],
   "source": [
    "#연습문제 8\n",
    "def letter_dict(str):\n",
    "    d={}\n",
    "    for i in str:\n",
    "        d[i]=str.count(i)\n",
    "    return d"
   ]
  },
  {
   "cell_type": "code",
   "execution_count": 3,
   "metadata": {},
   "outputs": [
    {
     "name": "stdout",
     "output_type": "stream",
     "text": [
      "{'r': 1, 'd': 1, 'p': 2, 'a': 1, 'l': 1, 'e': 2, ' ': 1}\n",
      "{'n': 2, 'l': 2, 'b': 1, 'a': 3, 'y': 1, ' ': 1, 'e': 1, 'o': 1, 'w': 1}\n"
     ]
    }
   ],
   "source": [
    "a=letter_dict('red apple')\n",
    "b=letter_dict('yellow banana')\n",
    "print(a)\n",
    "print(b)"
   ]
  },
  {
   "cell_type": "code",
   "execution_count": 4,
   "metadata": {},
   "outputs": [
    {
     "data": {
      "text/plain": [
       "'e'"
      ]
     },
     "execution_count": 4,
     "metadata": {},
     "output_type": "execute_result"
    }
   ],
   "source": [
    "#연습문제 8\n",
    "def max_letter(dict):\n",
    "    temp=0\n",
    "    mxl=''\n",
    "    for i in dict:\n",
    "        if dict[i] >= temp:\n",
    "            temp=dict[i]\n",
    "            mxl=i\n",
    "    return mxl\n",
    "max_letter(a)"
   ]
  },
  {
   "cell_type": "code",
   "execution_count": 5,
   "metadata": {},
   "outputs": [],
   "source": [
    "#연습문제 9\n",
    "def comb_dict(dict1, dict2):\n",
    "    d={}\n",
    "    for i in dict2:\n",
    "        if i in dict1:\n",
    "            d[i]=dict1[i]+dict2[i]\n",
    "        else: d[i]=dict2[i]\n",
    "    for j in dict1:\n",
    "        if j not in dict2:\n",
    "            d[j]=dict1[j]\n",
    "    return d            "
   ]
  },
  {
   "cell_type": "code",
   "execution_count": 6,
   "metadata": {},
   "outputs": [
    {
     "name": "stdout",
     "output_type": "stream",
     "text": [
      "{'l': 3, 'e': 3, 'b': 1, 'p': 2, 'y': 1, 'd': 1, 'o': 1, 'n': 2, 'r': 1, 'a': 4, ' ': 2, 'w': 1}\n",
      "a\n"
     ]
    }
   ],
   "source": [
    "c=comb_dict(a,b)\n",
    "print(c)\n",
    "print(max_letter(c))"
   ]
  },
  {
   "cell_type": "code",
   "execution_count": null,
   "metadata": {},
   "outputs": [],
   "source": [
    "#과제1-LCM_GCD.py\n",
    "import random\n",
    "def LCM(l): #최소공배수\n",
    "    # SHOULD BE IMPLEMENTED\n",
    "    l=[2,6,7,8,9,24,36]\n",
    "    \n",
    "def GCD(l): #최대공약수\n",
    "    # SHOULD BE IMPLEMENTED\n",
    "def main():\n",
    "a=[]\n",
    "for i in range(10):\n",
    "    a.append(random.randint(1, 100)) # 1에서 100 중 정수 하나\n",
    "print(a)\n",
    "lcm_value=LCM(a)\n",
    "gcd_value=GCD(a)\n",
    "print('최소공배수: ', lcm_value, ', 최대공약수: ', gcd_value)"
   ]
  },
  {
   "cell_type": "code",
   "execution_count": 18,
   "metadata": {},
   "outputs": [],
   "source": [
    "#과제2-prime.py\n",
    "def check_prime(num):\n",
    "    d = 2\n",
    "    l=[]\n",
    "    while d <= num:\n",
    "        if num%d == 0:\n",
    "            l.append(d)\n",
    "            num = num/d\n",
    "        else:\n",
    "            d = d +1\n",
    "    if len(l)==1:\n",
    "        return True"
   ]
  },
  {
   "cell_type": "code",
   "execution_count": 27,
   "metadata": {},
   "outputs": [
    {
     "name": "stdout",
     "output_type": "stream",
     "text": [
      "13는 소수입니다.\n",
      "15는 소수가 아닙니다.\n"
     ]
    }
   ],
   "source": [
    "a = 13\n",
    "b = 15\n",
    "if check_prime(a):\n",
    "    print(str(a)+'는 소수입니다.')\n",
    "else:\n",
    "    print(str(a)+'는 소수가 아닙니다.')\n",
    "if check_prime(b):\n",
    "    print(str(b)+'는 소수입니다.')\n",
    "else:\n",
    "    print(str(b)+'는 소수가 아닙니다.')"
   ]
  },
  {
   "cell_type": "code",
   "execution_count": null,
   "metadata": {},
   "outputs": [],
   "source": [
    "#과제3-add_comma.py\n",
    "def add_comma(val):\n",
    "    l=[]\n",
    "    for i in str(val):\n",
    "        l.append(i)"
   ]
  },
  {
   "cell_type": "code",
   "execution_count": 32,
   "metadata": {},
   "outputs": [],
   "source": [
    "#과제4-mean_and_var.py\n",
    "def mean_and_var(*val):\n",
    "    m1=0\n",
    "    m2=0\n",
    "    for i in val:\n",
    "        m1+=i[0]\n",
    "    print(m1)\n",
    "#     for i in val:\n",
    "#         l2.i[1]\n",
    "#     return l1\n",
    "\n",
    "def main():\n",
    "    v1=(0, 1)\n",
    "    v2=(0.5, 0.5)\n",
    "    v3=(1, 0)\n",
    "    m, var = mean_and_var(v1, v2, v3)\n",
    "    print('평균: ', m, '분산: ' , var)"
   ]
  },
  {
   "cell_type": "code",
   "execution_count": 28,
   "metadata": {},
   "outputs": [
    {
     "ename": "AttributeError",
     "evalue": "'list' object has no attribute 'i'",
     "output_type": "error",
     "traceback": [
      "\u001b[0;31m---------------------------------------------------------------------------\u001b[0m",
      "\u001b[0;31mAttributeError\u001b[0m                            Traceback (most recent call last)",
      "\u001b[0;32m<ipython-input-28-8d49e6ba0432>\u001b[0m in \u001b[0;36m<module>\u001b[0;34m()\u001b[0m\n\u001b[1;32m      6\u001b[0m \u001b[0ml2\u001b[0m\u001b[0;34m=\u001b[0m\u001b[0;34m[\u001b[0m\u001b[0;34m]\u001b[0m\u001b[0;34m\u001b[0m\u001b[0m\n\u001b[1;32m      7\u001b[0m \u001b[0;32mfor\u001b[0m \u001b[0mi\u001b[0m \u001b[0;32min\u001b[0m \u001b[0mval\u001b[0m\u001b[0;34m:\u001b[0m\u001b[0;34m\u001b[0m\u001b[0m\n\u001b[0;32m----> 8\u001b[0;31m     \u001b[0ml1\u001b[0m\u001b[0;34m.\u001b[0m\u001b[0mi\u001b[0m\u001b[0;34m[\u001b[0m\u001b[0;36m0\u001b[0m\u001b[0;34m]\u001b[0m\u001b[0;34m\u001b[0m\u001b[0m\n\u001b[0m\u001b[1;32m      9\u001b[0m \u001b[0;32mfor\u001b[0m \u001b[0mi\u001b[0m \u001b[0;32min\u001b[0m \u001b[0mval\u001b[0m\u001b[0;34m:\u001b[0m\u001b[0;34m\u001b[0m\u001b[0m\n\u001b[1;32m     10\u001b[0m     \u001b[0ml2\u001b[0m\u001b[0;34m.\u001b[0m\u001b[0mi\u001b[0m\u001b[0;34m[\u001b[0m\u001b[0;36m1\u001b[0m\u001b[0;34m]\u001b[0m\u001b[0;34m\u001b[0m\u001b[0m\n",
      "\u001b[0;31mAttributeError\u001b[0m: 'list' object has no attribute 'i'"
     ]
    }
   ],
   "source": [
    "v1=(0,1)\n",
    "v2=(0.5,0.5)\n",
    "v3=(1,0)\n",
    "val=(v1,v2,v3)\n",
    "l1=[]\n",
    "l2=[]\n",
    "for i in val:\n",
    "    l1.i[0]\n",
    "for i in val:\n",
    "    l2.i[1]\n",
    "print(l1)\n",
    "print(l2)"
   ]
  },
  {
   "cell_type": "code",
   "execution_count": 1,
   "metadata": {},
   "outputs": [
    {
     "name": "stdout",
     "output_type": "stream",
     "text": [
      "21.0\n"
     ]
    }
   ],
   "source": [
    "def gcd(a,b):\n",
    "    if b>a:\n",
    "        temp=a\n",
    "        a=b\n",
    "        b=temp\n",
    "    while b>0:\n",
    "        temp=b\n",
    "        b=a%b\n",
    "        a=temp\n",
    "    return a\n",
    "a=3\n",
    "b=7\n",
    "gf=gcd(a,b)\n",
    "lf=gf*(a/gf)*(b/gf)\n",
    "print(lf)"
   ]
  },
  {
   "cell_type": "code",
   "execution_count": null,
   "metadata": {},
   "outputs": [],
   "source": []
  }
 ],
 "metadata": {
  "kernelspec": {
   "display_name": "Python 3",
   "language": "python",
   "name": "python3"
  },
  "language_info": {
   "codemirror_mode": {
    "name": "ipython",
    "version": 3
   },
   "file_extension": ".py",
   "mimetype": "text/x-python",
   "name": "python",
   "nbconvert_exporter": "python",
   "pygments_lexer": "ipython3",
   "version": "3.5.6"
  }
 },
 "nbformat": 4,
 "nbformat_minor": 2
}
