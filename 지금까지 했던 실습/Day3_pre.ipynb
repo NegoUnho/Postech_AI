{
 "cells": [
  {
   "cell_type": "code",
   "execution_count": 1,
   "metadata": {},
   "outputs": [
    {
     "name": "stdout",
     "output_type": "stream",
     "text": [
      "Hello world\n",
      "Hello world\n",
      "\n"
     ]
    }
   ],
   "source": [
    "while 1:\n",
    "    data=input()\n",
    "    if not data: break\n",
    "    print(data)"
   ]
  },
  {
   "cell_type": "code",
   "execution_count": 2,
   "metadata": {},
   "outputs": [
    {
     "name": "stdout",
     "output_type": "stream",
     "text": [
      "6 11\n",
      "6 11\n"
     ]
    }
   ],
   "source": [
    "#함수\n",
    "#연습문제 0\n",
    "a=[5,5,6,7,8,3]\n",
    "b='I am a boy.'\n",
    "\n",
    "def my_len(ls):\n",
    "    a_ct=0\n",
    "    for e in ls:\n",
    "        a_ct+=1\n",
    "    return a_ct\n",
    "\n",
    "print(len(a),len(b))\n",
    "print(my_len(a), my_len(b))"
   ]
  },
  {
   "cell_type": "code",
   "execution_count": 3,
   "metadata": {},
   "outputs": [
    {
     "name": "stdout",
     "output_type": "stream",
     "text": [
      "3 -1 2 0.5\n"
     ]
    }
   ],
   "source": [
    "#연습문제 1\n",
    "def add(x,y):\n",
    "    result = x + y\n",
    "    return result\n",
    "\n",
    "def sub(x,y):\n",
    "    result = x - y\n",
    "    return result\n",
    "\n",
    "def mul(x,y):\n",
    "    result = x * y\n",
    "    return result\n",
    "##교재 상에서는 python2 환경에서 했는지 div 함수 리턴값으로 0이 출력됨.\n",
    "def div(x,y):\n",
    "    result = x / y\n",
    "    return result\n",
    "\n",
    "a=1\n",
    "b=2\n",
    "\n",
    "c=add(a,b)\n",
    "d=sub(a,b)\n",
    "e=mul(a,b)\n",
    "f=div(a,b)\n",
    "\n",
    "print(c,d,e,f)"
   ]
  },
  {
   "cell_type": "code",
   "execution_count": 11,
   "metadata": {},
   "outputs": [],
   "source": [
    "def count_even(*a):\n",
    "    cnt=0\n",
    "    for v in n:\n",
    "        if v % 2 == 0:\n",
    "            cnt += 1\n",
    "    return cnt"
   ]
  },
  {
   "cell_type": "code",
   "execution_count": 12,
   "metadata": {},
   "outputs": [
    {
     "data": {
      "text/plain": [
       "2"
      ]
     },
     "execution_count": 12,
     "metadata": {},
     "output_type": "execute_result"
    }
   ],
   "source": [
    "count_even(1,2,3,4)"
   ]
  },
  {
   "cell_type": "code",
   "execution_count": 2,
   "metadata": {},
   "outputs": [
    {
     "name": "stdout",
     "output_type": "stream",
     "text": [
      "Enter a sentence: Hello\n",
      "{'H': 1, 'e': 1, 'l': 2, 'o': 1}\n"
     ]
    }
   ],
   "source": [
    "#실습\n",
    "sen = input(\"Enter a sentence: \")\n",
    "dic = {}\n",
    "\n",
    "for ch in sen:\n",
    "    if ch in dic:\n",
    "        dic[ch] += 1\n",
    "    else:\n",
    "        dic[ch] = 1\n",
    "print(dic)"
   ]
  },
  {
   "cell_type": "code",
   "execution_count": null,
   "metadata": {},
   "outputs": [],
   "source": []
  }
 ],
 "metadata": {
  "kernelspec": {
   "display_name": "Python 3",
   "language": "python",
   "name": "python3"
  },
  "language_info": {
   "codemirror_mode": {
    "name": "ipython",
    "version": 3
   },
   "file_extension": ".py",
   "mimetype": "text/x-python",
   "name": "python",
   "nbconvert_exporter": "python",
   "pygments_lexer": "ipython3",
   "version": "3.5.6"
  }
 },
 "nbformat": 4,
 "nbformat_minor": 2
}
