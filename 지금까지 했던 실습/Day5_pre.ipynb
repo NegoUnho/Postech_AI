{
 "cells": [
  {
   "cell_type": "code",
   "execution_count": 5,
   "metadata": {},
   "outputs": [],
   "source": [
    "class Account:\n",
    "    # 계좌의 속성(Attribute)\n",
    "    number = 'OOOO-OOO-OOOOOO'\n",
    "    balance = 0\n",
    "    rate = 1.0\n",
    "    num_acc = 0\n",
    "    # 계좌의 기능(Method)\n",
    "    def deposit(self, money): #입금\n",
    "        self.balance += money\n",
    "    def withdraw(self, money): #인출\n",
    "        self.balance -= money\n",
    "    def obtain_interest(self): #이자 획득\n",
    "        self.balance += self.balance*(self.rate/100)\n",
    "    def get_balance(self):\n",
    "        return self.balance\n",
    "    def set_balance(self, amnt):\n",
    "        self.balance = amnt\n",
    "    #연습문제 1 계좌이체 메소드 구현\n",
    "    def transfer(self,another,amnt):\n",
    "        Account.balance = self.balance - amnt\n",
    "        Account.balance = another.balance + amnt\n",
    "    # def __init__(self): Default 생성자\n",
    "    def __init__(self, num='OOO-OOO-OOOOO', amnt=0, rate=1.0):\n",
    "        self.number = num\n",
    "        self.balance = amnt\n",
    "        self.rate = rate\n",
    "        Account.num_acc += 1 #Account의 클래스 변수 값 변경\n",
    "    def __add__(self, another): #두 계좌 통합 기능\n",
    "        new_acc = Account(amnt = self.balance + another.balance,rate = self.rate)\n",
    "        return new_acc"
   ]
  },
  {
   "cell_type": "code",
   "execution_count": 13,
   "metadata": {},
   "outputs": [],
   "source": [
    "#최소잔액계좌\n",
    "class MinBalanceAccount(Account): #Account 클래스를 상속받음.Form class 서브 클래스 or 자녀 클래스(슈퍼 클래스 or 부모 클래스)\n",
    "    def __init__(self, min_balance, num='OOOO-OOO-OOOOO',amnt=0, rate=1.0):\n",
    "        Account.__init__(self, num=num, amnt=amnt, rate=rate)\n",
    "        self.minimum_balance = min_balance\n",
    "        self.bonus_rate = 1.0\n",
    "    def withdraw(self, amnt): # 인출 기능 수정\n",
    "        if self.balance - amnt < self.minimum_balance:\n",
    "            print('Sorry, minimum balance must bemaintained')\n",
    "        else:\n",
    "            Account.withdraw(self, amnt)\n",
    "    def obtain_interest(self): #보너스 이율 반영\n",
    "        self.balance += (self.balance)*((self.rate+self.bonus_rate)/100.0)"
   ]
  },
  {
   "cell_type": "code",
   "execution_count": 14,
   "metadata": {},
   "outputs": [],
   "source": [
    "acc1 = Account('111-111-11111')"
   ]
  },
  {
   "cell_type": "code",
   "execution_count": 15,
   "metadata": {},
   "outputs": [
    {
     "data": {
      "text/plain": [
       "'111-111-11111'"
      ]
     },
     "execution_count": 15,
     "metadata": {},
     "output_type": "execute_result"
    }
   ],
   "source": [
    "acc1.number"
   ]
  },
  {
   "cell_type": "code",
   "execution_count": 16,
   "metadata": {},
   "outputs": [
    {
     "data": {
      "text/plain": [
       "0"
      ]
     },
     "execution_count": 16,
     "metadata": {},
     "output_type": "execute_result"
    }
   ],
   "source": [
    "acc1.balance"
   ]
  },
  {
   "cell_type": "code",
   "execution_count": 17,
   "metadata": {},
   "outputs": [
    {
     "data": {
      "text/plain": [
       "1.0"
      ]
     },
     "execution_count": 17,
     "metadata": {},
     "output_type": "execute_result"
    }
   ],
   "source": [
    "acc1.rate"
   ]
  },
  {
   "cell_type": "code",
   "execution_count": 18,
   "metadata": {},
   "outputs": [
    {
     "name": "stdout",
     "output_type": "stream",
     "text": [
      "2\n"
     ]
    }
   ],
   "source": [
    "acc2=Account('111-111-11112',10000,1.2)\n",
    "print(Account.num_acc)"
   ]
  },
  {
   "cell_type": "code",
   "execution_count": 19,
   "metadata": {},
   "outputs": [
    {
     "data": {
      "text/plain": [
       "builtin_function_or_method"
      ]
     },
     "execution_count": 19,
     "metadata": {},
     "output_type": "execute_result"
    }
   ],
   "source": [
    "type(print)"
   ]
  },
  {
   "cell_type": "code",
   "execution_count": 20,
   "metadata": {
    "scrolled": true
   },
   "outputs": [
    {
     "name": "stdout",
     "output_type": "stream",
     "text": [
      "10000\n"
     ]
    }
   ],
   "source": [
    "acc3=acc1+acc2\n",
    "print(acc3.get_balance())"
   ]
  }
 ],
 "metadata": {
  "kernelspec": {
   "display_name": "Python 3",
   "language": "python",
   "name": "python3"
  },
  "language_info": {
   "codemirror_mode": {
    "name": "ipython",
    "version": 3
   },
   "file_extension": ".py",
   "mimetype": "text/x-python",
   "name": "python",
   "nbconvert_exporter": "python",
   "pygments_lexer": "ipython3",
   "version": "3.5.6"
  }
 },
 "nbformat": 4,
 "nbformat_minor": 2
}
